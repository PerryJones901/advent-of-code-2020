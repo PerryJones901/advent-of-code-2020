{
 "cells": [
  {
   "cell_type": "code",
   "execution_count": 4,
   "metadata": {},
   "outputs": [
    {
     "name": "stdout",
     "output_type": "stream",
     "text": [
      "1521\n"
     ]
    }
   ],
   "source": [
    "### Part 1 ###\n",
    "\n",
    "def get_input_lines_without_spaces():\n",
    "    with open('day8_input.txt') as f:\n",
    "        return [x for x in f.read().splitlines()]\n",
    "\n",
    "class Operation():\n",
    "    def __init__(self, index: int, operation_str: str):\n",
    "        split_str = operation_str.split(' ')\n",
    "        self.type = split_str[0]\n",
    "        self.num = int(split_str[1])\n",
    "        self.index = index\n",
    "\n",
    "input_lines = get_input_lines_without_spaces()\n",
    "list_of_ops = [Operation(index, x) for index, x in enumerate(input_lines)]\n",
    "set_of_already_executed_ops = set()\n",
    "\n",
    "def acc_value_before_first_repeated_command(op: Operation, acc: int) -> int:\n",
    "    if (op.index in set_of_already_executed_ops):\n",
    "        return acc\n",
    "    else:\n",
    "        set_of_already_executed_ops.add(op.index)\n",
    "    \n",
    "    next_op_index = op.index + 1\n",
    "    next_acc = acc\n",
    "\n",
    "    if op.type == 'acc':\n",
    "        next_acc += op.num\n",
    "    elif op.type == 'jmp':\n",
    "        next_op_index = op.index + op.num\n",
    "    elif op.type == 'nop':\n",
    "        pass\n",
    "\n",
    "    return acc_value_before_first_repeated_command(list_of_ops[next_op_index], next_acc)\n",
    "\n",
    "print(acc_value_before_first_repeated_command(list_of_ops[0], 0))"
   ]
  },
  {
   "cell_type": "code",
   "execution_count": 6,
   "metadata": {},
   "outputs": [
    {
     "name": "stdout",
     "output_type": "stream",
     "text": [
      "1016\n"
     ]
    }
   ],
   "source": [
    "### Part 2 ##\n",
    "from typing import Tuple\n",
    "\n",
    "def get_input_lines_without_spaces():\n",
    "    with open('day8_input.txt') as f:\n",
    "        return [x for x in f.read().splitlines()]\n",
    "\n",
    "class Operation():\n",
    "    def __init__(self, index: int, operation_str: str):\n",
    "        split_str = operation_str.split(' ')\n",
    "        self.type = split_str[0]\n",
    "        self.num = int(split_str[1])\n",
    "        self.index = index\n",
    "\n",
    "input_lines = get_input_lines_without_spaces()\n",
    "list_of_ops = [Operation(index, x) for index, x in enumerate(input_lines)]\n",
    "length_of_ops_list = len(input_lines)\n",
    "\n",
    "def program_eventually_stops_with_acc(op: Operation, acc: int, indices_of_done_ops: set[int]) -> Tuple[bool, int]:\n",
    "    # Output0: True if program doesn't repeat\n",
    "    # Output1: Value of acc at end\n",
    "\n",
    "    if (op.index in indices_of_done_ops):\n",
    "        return (False, acc)\n",
    "    else:\n",
    "        indices_of_done_ops.add(op.index)\n",
    "    \n",
    "    next_op_index = op.index + 1\n",
    "    next_acc = acc\n",
    "\n",
    "    if op.type == 'acc':\n",
    "        next_acc += op.num\n",
    "    elif op.type == 'jmp':\n",
    "        next_op_index = op.index + op.num\n",
    "    elif op.type == 'nop':\n",
    "        pass\n",
    "\n",
    "    if (next_op_index == length_of_ops_list):\n",
    "        return (True, next_acc)\n",
    "    elif (next_op_index > length_of_ops_list):\n",
    "        return (False, next_acc)\n",
    "\n",
    "    return program_eventually_stops_with_acc(list_of_ops[next_op_index], next_acc, indices_of_done_ops)\n",
    "\n",
    "for op in list_of_ops:\n",
    "    original_op_type = op.type\n",
    "    if original_op_type == 'jmp':\n",
    "        op.type = 'nop'\n",
    "    elif original_op_type == 'nop':\n",
    "        op.type = 'jmp'\n",
    "    else:\n",
    "        continue\n",
    "\n",
    "    set_of_already_executed_ops = set()\n",
    "\n",
    "    result = program_eventually_stops_with_acc(list_of_ops[0], 0, set_of_already_executed_ops)\n",
    "    if (result[0] == True):\n",
    "        print(result[1])\n",
    "\n",
    "    op.type = original_op_type\n"
   ]
  }
 ],
 "metadata": {
  "interpreter": {
   "hash": "6d10d5168071a09c12f3da481d517eb2216ee909e891c9b02ddf481367d6a23e"
  },
  "kernelspec": {
   "display_name": "Python 3.9.7 64-bit",
   "name": "python3"
  },
  "language_info": {
   "codemirror_mode": {
    "name": "ipython",
    "version": 3
   },
   "file_extension": ".py",
   "mimetype": "text/x-python",
   "name": "python",
   "nbconvert_exporter": "python",
   "pygments_lexer": "ipython3",
   "version": "3.9.7"
  },
  "orig_nbformat": 4
 },
 "nbformat": 4,
 "nbformat_minor": 2
}
