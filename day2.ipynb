{
 "cells": [
  {
   "cell_type": "code",
   "execution_count": 4,
   "metadata": {},
   "outputs": [
    {
     "name": "stdout",
     "output_type": "stream",
     "text": [
      "477\n"
     ]
    }
   ],
   "source": [
    "### Part 1 ###\n",
    "\n",
    "def getMinAndMax(input: str):\n",
    "    numbers = str.split(input, '-')\n",
    "    return {'min': int(numbers[0]), 'max': int(numbers[1])}\n",
    "\n",
    "def getRequiredLetter(input: str):\n",
    "    return input[0]\n",
    "\n",
    "with open('day2_input.txt') as f:\n",
    "    input_list = [x for x in f.read().splitlines()]\n",
    "\n",
    "valid_passwords_count = 0\n",
    "\n",
    "for line in input_list:\n",
    "    # format: minNum-maxNum letter: password\n",
    "    line_sep_by_space = str.split(line, ' ')\n",
    "\n",
    "    bounds = getMinAndMax(line_sep_by_space[0])\n",
    "    required_letter = getRequiredLetter(line_sep_by_space[1])\n",
    "    password = line_sep_by_space[2]\n",
    "\n",
    "    letter_count = password.count(required_letter)\n",
    "\n",
    "    if(bounds['min'] <= letter_count <= bounds['max']):\n",
    "        valid_passwords_count = valid_passwords_count + 1\n",
    "\n",
    "print(valid_passwords_count)"
   ]
  },
  {
   "cell_type": "code",
   "execution_count": 4,
   "metadata": {},
   "outputs": [
    {
     "name": "stdout",
     "output_type": "stream",
     "text": [
      "686\n"
     ]
    }
   ],
   "source": [
    "### Part 2 ###\n",
    "\n",
    "def getIndices(input: str):\n",
    "    numbers = str.split(input, '-')\n",
    "    return {'firstPos': int(numbers[0]), 'secondPos': int(numbers[1])}\n",
    "\n",
    "def getRequiredLetter(input: str):\n",
    "    return input[0]\n",
    "\n",
    "with open('day2_input.txt') as f:\n",
    "    input_list = [x for x in f.read().splitlines()]\n",
    "\n",
    "\n",
    "valid_passwords_count = 0\n",
    "\n",
    "for line in input_list:\n",
    "    # format: firstPos-secondPos letter: password\n",
    "    line_sep_by_space = str.split(line, ' ')\n",
    "\n",
    "    positions = getIndices(line_sep_by_space[0])\n",
    "    required_letter = getRequiredLetter(line_sep_by_space[1])\n",
    "    password = line_sep_by_space[2]\n",
    "\n",
    "    list = [password[positions['firstPos'] - 1], password[positions['secondPos'] - 1]]\n",
    "\n",
    "    if(list.count(required_letter) == 1):\n",
    "        valid_passwords_count = valid_passwords_count + 1\n",
    "\n",
    "print(valid_passwords_count)"
   ]
  }
 ],
 "metadata": {
  "interpreter": {
   "hash": "6d10d5168071a09c12f3da481d517eb2216ee909e891c9b02ddf481367d6a23e"
  },
  "kernelspec": {
   "display_name": "Python 3.9.7 64-bit",
   "name": "python3"
  },
  "language_info": {
   "codemirror_mode": {
    "name": "ipython",
    "version": 3
   },
   "file_extension": ".py",
   "mimetype": "text/x-python",
   "name": "python",
   "nbconvert_exporter": "python",
   "pygments_lexer": "ipython3",
   "version": "3.9.7"
  },
  "orig_nbformat": 4
 },
 "nbformat": 4,
 "nbformat_minor": 2
}
