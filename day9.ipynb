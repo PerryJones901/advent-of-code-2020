{
 "cells": [
  {
   "cell_type": "code",
   "execution_count": 8,
   "metadata": {},
   "outputs": [
    {
     "name": "stdout",
     "output_type": "stream",
     "text": [
      "138879426\n"
     ]
    }
   ],
   "source": [
    "### Part 1 ###\n",
    "\n",
    "from typing import List\n",
    "\n",
    "def get_input_lines_as_ints():\n",
    "    with open('day9_input.txt') as f:\n",
    "        return [int(x) for x in f.read().splitlines()]\n",
    "\n",
    "input_numbers = get_input_lines_as_ints()\n",
    "input_numbers_length = len(input_numbers)\n",
    "\n",
    "def get_previous_n_numbers(index: int):\n",
    "    return input_numbers[index - 25 : index]\n",
    "\n",
    "def includes_number_more_than_once(list: List[int], num: int):\n",
    "    return list.count(num) > 1\n",
    "\n",
    "def get_list_of_addition_inverses(num_list: List[int], value: int):\n",
    "    return list(map(lambda x: value - x, num_list))\n",
    "\n",
    "for index in range(25, input_numbers_length):\n",
    "    current_num = input_numbers[index]\n",
    "    prev_nums = get_previous_n_numbers(index)\n",
    "    current_num_sum_possible = False\n",
    "\n",
    "    # Special case: current_num // 2 appears twice, thus adding them together yields current_num\n",
    "    if (current_num % 2 == 0 and includes_number_more_than_once(prev_nums, current_num // 2)):\n",
    "        continue\n",
    "\n",
    "    # At this point, we can assume that if a + b = current_num for some a,b in prev_nums,\n",
    "    #   then a != b\n",
    "\n",
    "    prev_nums_addition_inverses = get_list_of_addition_inverses(prev_nums, current_num)\n",
    "    for prev_num in prev_nums:\n",
    "        if prev_num in prev_nums_addition_inverses:\n",
    "            current_num_sum_possible = True\n",
    "            break\n",
    "    if not current_num_sum_possible:\n",
    "        print(current_num)\n",
    "        break\n",
    "\n",
    "\n"
   ]
  },
  {
   "cell_type": "code",
   "execution_count": 10,
   "metadata": {},
   "outputs": [
    {
     "name": "stdout",
     "output_type": "stream",
     "text": [
      "Min num: 5984187\n",
      "Max num: 17777507\n",
      "Sum: 23761694\n"
     ]
    }
   ],
   "source": [
    "### Part 2 ##\n",
    "\n",
    "# Algorithm premise:\n",
    "# start_index = 0\n",
    "# finish_index = 0\n",
    "# find sum from start_index incl to finish_index incl\n",
    "# if sum == TARGET, we're done.\n",
    "# otherwise, finish_index++\n",
    "# (we can do something clever, just sum += 'new number')\n",
    "# if sum == TARGET, we're done.\n",
    "# if sum < TARGET, then finish_index++\n",
    "# otherwise, start_index++ (can do clever thing, sum -= 'removed number')\n",
    "# algo is O(n), wooooo\n",
    "\n",
    "def get_input_lines_as_ints():\n",
    "    with open('day9_input.txt') as f:\n",
    "        return [int(x) for x in f.read().splitlines()]\n",
    "\n",
    "input_numbers = get_input_lines_as_ints()\n",
    "start_index = 0\n",
    "finish_index = 0\n",
    "sum = input_numbers[0]\n",
    "\n",
    "TARGET_NUM = 138879426\n",
    "MAX_ITERATIONS = 5000\n",
    "\n",
    "iternation_num = 0\n",
    "while iternation_num < MAX_ITERATIONS :\n",
    "    iternation_num = iternation_num + 1\n",
    "\n",
    "    if sum == TARGET_NUM:\n",
    "        subset_of_nums_summing_to_target = input_numbers[start_index:finish_index + 1]\n",
    "        min_num = min(subset_of_nums_summing_to_target)\n",
    "        max_num = max(subset_of_nums_summing_to_target)\n",
    "        print(f'Min num: {min_num}')\n",
    "        print(f'Max num: {max_num}')\n",
    "        print(f'Sum: {min_num + max_num}')\n",
    "        break\n",
    "\n",
    "    elif sum < TARGET_NUM:\n",
    "        finish_index = finish_index + 1\n",
    "        sum += input_numbers[finish_index]\n",
    "\n",
    "    elif sum > TARGET_NUM:\n",
    "        sum -= input_numbers[start_index]\n",
    "        start_index = start_index + 1"
   ]
  }
 ],
 "metadata": {
  "interpreter": {
   "hash": "6d10d5168071a09c12f3da481d517eb2216ee909e891c9b02ddf481367d6a23e"
  },
  "kernelspec": {
   "display_name": "Python 3.9.7 64-bit",
   "name": "python3"
  },
  "language_info": {
   "codemirror_mode": {
    "name": "ipython",
    "version": 3
   },
   "file_extension": ".py",
   "mimetype": "text/x-python",
   "name": "python",
   "nbconvert_exporter": "python",
   "pygments_lexer": "ipython3",
   "version": "3.9.7"
  },
  "orig_nbformat": 4
 },
 "nbformat": 4,
 "nbformat_minor": 2
}
