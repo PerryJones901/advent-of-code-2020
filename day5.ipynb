{
 "cells": [
  {
   "cell_type": "code",
   "execution_count": 5,
   "metadata": {},
   "outputs": [
    {
     "name": "stdout",
     "output_type": "stream",
     "text": [
      "894\n"
     ]
    }
   ],
   "source": [
    "### Part 1 ###\n",
    "\n",
    "def get_input_lines():\n",
    "    with open('day5_input.txt') as f:\n",
    "        return [x for x in f.read().splitlines()]\n",
    "\n",
    "def encoded_str_to_number(code: str, zero_char: str, one_char: str):\n",
    "    binary_str = code.replace(zero_char, '0').replace(one_char, '1')\n",
    "    return int(binary_str, 2)\n",
    "\n",
    "def row_from_seat_cide(code: str):\n",
    "    # input: string length 7, F's and B's\n",
    "    row_code = code[:7]\n",
    "    return encoded_str_to_number(row_code, 'F', 'B')\n",
    "\n",
    "def column_from_seat_code(code: str):\n",
    "    # input: string length 3, L's and R's\n",
    "    column_code = code[-3:]\n",
    "    return encoded_str_to_number(column_code, 'L', 'R')\n",
    "\n",
    "highest_seat_id = 0\n",
    "\n",
    "for seat_code in get_input_lines():\n",
    "    seat_id = 8 * row_from_seat_cide(seat_code) + column_from_seat_code(seat_code)\n",
    "    if highest_seat_id < seat_id:\n",
    "        highest_seat_id = seat_id\n",
    "\n",
    "print(highest_seat_id)"
   ]
  },
  {
   "cell_type": "code",
   "execution_count": 6,
   "metadata": {},
   "outputs": [
    {
     "name": "stdout",
     "output_type": "stream",
     "text": [
      "579\n"
     ]
    }
   ],
   "source": [
    "### Part 2 ###\n",
    "\n",
    "def get_input_lines():\n",
    "    with open('day5_input.txt') as f:\n",
    "        return [x for x in f.read().splitlines()]\n",
    "\n",
    "def encoded_str_to_number(code: str, zero_char: str, one_char: str):\n",
    "    binary_str = code.replace(zero_char, '0').replace(one_char, '1')\n",
    "    return int(binary_str, 2)\n",
    "\n",
    "def row_from_seat_cide(code: str):\n",
    "    # input: string length 7, F's and B's\n",
    "    row_code = code[:7]\n",
    "    return encoded_str_to_number(row_code, 'F', 'B')\n",
    "\n",
    "def column_from_seat_code(code: str):\n",
    "    # input: string length 3, L's and R's\n",
    "    column_code = code[-3:]\n",
    "    return encoded_str_to_number(column_code, 'L', 'R')\n",
    "\n",
    "smallest_seat_id = None\n",
    "highest_seat_id = 0\n",
    "already_allocated_seat_ids = set()\n",
    "\n",
    "for seat_code in get_input_lines():\n",
    "    seat_id = 8 * row_from_seat_cide(seat_code) + column_from_seat_code(seat_code)\n",
    "    if smallest_seat_id == None or smallest_seat_id > seat_id:\n",
    "        smallest_seat_id = seat_id\n",
    "    if highest_seat_id < seat_id:\n",
    "        highest_seat_id = seat_id\n",
    "    already_allocated_seat_ids.add(seat_id)\n",
    "\n",
    "# Cycle through from min to max until we find number not on list\n",
    "for seat_id in range(smallest_seat_id + 1, highest_seat_id):\n",
    "    if seat_id not in already_allocated_seat_ids:\n",
    "        print(seat_id)\n",
    "        break\n"
   ]
  }
 ],
 "metadata": {
  "interpreter": {
   "hash": "6d10d5168071a09c12f3da481d517eb2216ee909e891c9b02ddf481367d6a23e"
  },
  "kernelspec": {
   "display_name": "Python 3.9.7 64-bit",
   "name": "python3"
  },
  "language_info": {
   "codemirror_mode": {
    "name": "ipython",
    "version": 3
   },
   "file_extension": ".py",
   "mimetype": "text/x-python",
   "name": "python",
   "nbconvert_exporter": "python",
   "pygments_lexer": "ipython3",
   "version": "3.9.7"
  },
  "orig_nbformat": 4
 },
 "nbformat": 4,
 "nbformat_minor": 2
}
