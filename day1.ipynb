{
 "cells": [
  {
   "cell_type": "code",
   "execution_count": 1,
   "metadata": {},
   "outputs": [
    {
     "name": "stdout",
     "output_type": "stream",
     "text": [
      "hello world!\n"
     ]
    }
   ],
   "source": [
    "print('hello world!')"
   ]
  },
  {
   "cell_type": "code",
   "execution_count": 5,
   "metadata": {},
   "outputs": [
    {
     "name": "stdout",
     "output_type": "stream",
     "text": [
      "788739\n",
      "788739\n",
      "end\n"
     ]
    }
   ],
   "source": [
    "SUM_GOAL = 2020\n",
    "list2 = []\n",
    "\n",
    "with open('day1_input.txt') as f:\n",
    "    list = [int(x) for x in f.read().splitlines()]\n",
    "\n",
    "for i in list:\n",
    "    list2.append(SUM_GOAL - i)\n",
    "\n",
    "for i in list:\n",
    "    if i in list2:\n",
    "        print(i * (SUM_GOAL - i))\n",
    "print('end')"
   ]
  },
  {
   "cell_type": "code",
   "execution_count": 2,
   "metadata": {},
   "outputs": [
    {
     "name": "stdout",
     "output_type": "stream",
     "text": [
      "178724430\n",
      "178724430\n",
      "178724430\n"
     ]
    }
   ],
   "source": [
    "SUM_GOAL = 2020\n",
    "twenty_twenty_minus_n_list = []\n",
    "\n",
    "with open('day1_input_part2_.txt') as f:\n",
    "    list = [int(x) for x in f.read().splitlines()]\n",
    "\n",
    "for i in list:\n",
    "    twenty_twenty_minus_n_list.append(SUM_GOAL - i)\n",
    "\n",
    "for i in range(0, len(list)):\n",
    "    for j in range(i + 1, len(list)):\n",
    "        num1 = list[i]\n",
    "        num2 = list[j]\n",
    "        if num1 + num2 in twenty_twenty_minus_n_list:\n",
    "            print(num1 * num2 * (SUM_GOAL - num1 - num2))"
   ]
  }
 ],
 "metadata": {
  "interpreter": {
   "hash": "6d10d5168071a09c12f3da481d517eb2216ee909e891c9b02ddf481367d6a23e"
  },
  "kernelspec": {
   "display_name": "Python 3.9.7 64-bit",
   "name": "python3"
  },
  "language_info": {
   "codemirror_mode": {
    "name": "ipython",
    "version": 3
   },
   "file_extension": ".py",
   "mimetype": "text/x-python",
   "name": "python",
   "nbconvert_exporter": "python",
   "pygments_lexer": "ipython3",
   "version": "3.9.7"
  },
  "orig_nbformat": 4
 },
 "nbformat": 4,
 "nbformat_minor": 2
}
