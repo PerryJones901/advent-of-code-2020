{
 "cells": [
  {
   "cell_type": "code",
   "execution_count": 11,
   "metadata": {},
   "outputs": [
    {
     "name": "stdout",
     "output_type": "stream",
     "text": [
      "278\n"
     ]
    }
   ],
   "source": [
    "### Part 1 ###\n",
    "\n",
    "TREE_CHAR = '#'\n",
    "\n",
    "with open('day3_input.txt') as f:\n",
    "    input_list = [x for x in f.read().splitlines()]\n",
    "    width_of_repeat_section = len(input_list[0])\n",
    "\n",
    "def isTreeAt(x: int, y: int):\n",
    "    return input_list[y][x % width_of_repeat_section] == TREE_CHAR\n",
    "\n",
    "tree_count = 0\n",
    "x_ind = 0\n",
    "y_ind = 0\n",
    "\n",
    "for line in input_list:\n",
    "    if (isTreeAt(x_ind, y_ind)):\n",
    "        tree_count = tree_count + 1\n",
    "\n",
    "    x_ind += 3\n",
    "    y_ind += 1\n",
    "\n",
    "print(tree_count)"
   ]
  },
  {
   "cell_type": "code",
   "execution_count": 13,
   "metadata": {},
   "outputs": [
    {
     "name": "stdout",
     "output_type": "stream",
     "text": [
      "9709761600\n"
     ]
    }
   ],
   "source": [
    "### Part 2 ###\n",
    "\n",
    "TREE_CHAR = '#'\n",
    "SLOPES = [[1,1], [3,1], [5,1], [7,1], [1,2]]\n",
    "\n",
    "with open('day3_input.txt') as f:\n",
    "    input_list = [x for x in f.read().splitlines()]\n",
    "    width_of_repeat_section = len(input_list[0])\n",
    "    height_of_section = len(input_list)\n",
    "\n",
    "def isTreeAt(x: int, y: int):\n",
    "    return input_list[y][x % width_of_repeat_section] == TREE_CHAR\n",
    "\n",
    "tree_product = 1\n",
    "\n",
    "for slope in SLOPES:\n",
    "    tree_count = 0\n",
    "    x_ind = 0\n",
    "    y_ind = 0\n",
    "    \n",
    "    while y_ind < height_of_section:\n",
    "        if (isTreeAt(x_ind, y_ind)):\n",
    "            tree_count = tree_count + 1\n",
    "\n",
    "        x_ind += slope[0]\n",
    "        y_ind += slope[1]\n",
    "    tree_product *= tree_count\n",
    "\n",
    "print(tree_product)"
   ]
  }
 ],
 "metadata": {
  "interpreter": {
   "hash": "6d10d5168071a09c12f3da481d517eb2216ee909e891c9b02ddf481367d6a23e"
  },
  "kernelspec": {
   "display_name": "Python 3.9.7 64-bit",
   "name": "python3"
  },
  "language_info": {
   "codemirror_mode": {
    "name": "ipython",
    "version": 3
   },
   "file_extension": ".py",
   "mimetype": "text/x-python",
   "name": "python",
   "nbconvert_exporter": "python",
   "pygments_lexer": "ipython3",
   "version": "3.9.7"
  },
  "orig_nbformat": 4
 },
 "nbformat": 4,
 "nbformat_minor": 2
}
