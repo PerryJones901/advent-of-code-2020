{
 "cells": [
  {
   "cell_type": "code",
   "execution_count": 5,
   "metadata": {},
   "outputs": [
    {
     "name": "stdout",
     "output_type": "stream",
     "text": [
      "1 Gaps: 69\n",
      "3 Gaps: 34\n",
      "Answer: 2346\n"
     ]
    }
   ],
   "source": [
    "### Part 1 ###\n",
    "\n",
    "def get_input_lines_as_ints():\n",
    "    with open('day10_input.txt') as f:\n",
    "        return [int(x) for x in f.read().splitlines()]\n",
    "\n",
    "# 1. Order the adapter jolts\n",
    "# 2. Go through consecutive pairs, adding to gap tally\n",
    "gap_tally = {}\n",
    "ordered_jolt_list = sorted(get_input_lines_as_ints())\n",
    "\n",
    "# The plug outlet is treated as 0\n",
    "ordered_jolt_list.insert(0,0)\n",
    "\n",
    "length_of_list = len(ordered_jolt_list)\n",
    "\n",
    "for i in range(0, length_of_list - 1):\n",
    "    first_jolt = ordered_jolt_list[i]\n",
    "    second_jolt = ordered_jolt_list[i + 1]\n",
    "    gap_amount = second_jolt - first_jolt\n",
    "\n",
    "    tally = gap_tally.setdefault(gap_amount, 0)\n",
    "    gap_tally[gap_amount] += 1\n",
    "\n",
    "gap_tally.setdefault(1, 0)\n",
    "gap_tally.setdefault(3, 0)\n",
    "\n",
    "gap_of_1_tally = gap_tally[1]\n",
    "gap_of_3_tally = gap_tally[3] + 1 # +1 for the device being +3\n",
    "\n",
    "print(f'1 Gaps: { gap_of_1_tally }')\n",
    "print(f'3 Gaps: { gap_of_3_tally }')\n",
    "print(f'Answer: { gap_of_1_tally * gap_of_3_tally }')"
   ]
  },
  {
   "cell_type": "code",
   "execution_count": 16,
   "metadata": {},
   "outputs": [
    {
     "name": "stdout",
     "output_type": "stream",
     "text": [
      "6044831973376\n"
     ]
    }
   ],
   "source": [
    "### Part 2 ##\n",
    "\n",
    "def get_input_lines_as_ints():\n",
    "    with open('day10_input.txt') as f:\n",
    "        return [int(x) for x in f.read().splitlines()]\n",
    "\n",
    "# Order the adapter jolts\n",
    "gap_tally = {}\n",
    "ordered_jolt_list = sorted(get_input_lines_as_ints())\n",
    "\n",
    "# The plug outlet is treated as 0\n",
    "ordered_jolt_list.insert(0,0)\n",
    "\n",
    "# Add the adapter\n",
    "ordered_jolt_list.append(ordered_jolt_list[-1] + 3)\n",
    "length_of_list = len(ordered_jolt_list)\n",
    "\n",
    "index_to_num_arrangements_from_index = {}\n",
    "\n",
    "def num_arrangements_from_this_index(index: int):\n",
    "    # If we've already worked it out, use it!\n",
    "    if index in index_to_num_arrangements_from_index:\n",
    "        return index_to_num_arrangements_from_index[index]\n",
    "    \n",
    "    # Special case: if at end:\n",
    "    if(index == length_of_list - 1):\n",
    "        index_to_num_arrangements_from_index[index] = 1\n",
    "        return 1 # only one arrangement\n",
    "\n",
    "    # Check values at indices +1, +2 and +3 to see if they're within 3 (incl).\n",
    "    # For those within 3 (the amount satisfying this is min of 1, max of 3), then use recursion to find\n",
    "    #   out how many combination include those etc\n",
    "    value_at_index = ordered_jolt_list[index]\n",
    "    num_arrangements = 0\n",
    "\n",
    "    search_index = index + 1\n",
    "    while search_index <= index + 3 and search_index < length_of_list:\n",
    "        search_value = ordered_jolt_list[search_index]\n",
    "        if(search_value <= value_at_index + 3):\n",
    "            num_arrangements += num_arrangements_from_this_index(search_index)\n",
    "        search_index += 1\n",
    "\n",
    "    index_to_num_arrangements_from_index[index] = num_arrangements\n",
    "\n",
    "    return num_arrangements\n",
    "\n",
    "\n",
    "print(num_arrangements_from_this_index(0))"
   ]
  }
 ],
 "metadata": {
  "interpreter": {
   "hash": "6d10d5168071a09c12f3da481d517eb2216ee909e891c9b02ddf481367d6a23e"
  },
  "kernelspec": {
   "display_name": "Python 3.9.7 64-bit",
   "name": "python3"
  },
  "language_info": {
   "codemirror_mode": {
    "name": "ipython",
    "version": 3
   },
   "file_extension": ".py",
   "mimetype": "text/x-python",
   "name": "python",
   "nbconvert_exporter": "python",
   "pygments_lexer": "ipython3",
   "version": "3.9.7"
  },
  "orig_nbformat": 4
 },
 "nbformat": 4,
 "nbformat_minor": 2
}
