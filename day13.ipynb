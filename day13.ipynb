{
 "cells": [
  {
   "cell_type": "code",
   "execution_count": 6,
   "metadata": {},
   "outputs": [
    {
     "name": "stdout",
     "output_type": "stream",
     "text": [
      "Min wait time: 6\n",
      "Best bus: 383\n",
      "Product: 2298\n"
     ]
    }
   ],
   "source": [
    "### Part 1 ###\n",
    "\n",
    "def get_input_lines():\n",
    "    with open('day13_input.txt') as f:\n",
    "        return [x for x in f.read().splitlines()]\n",
    "\n",
    "input_lines = get_input_lines()\n",
    "eta = int(input_lines[0])\n",
    "bus_str_list = input_lines[1].split(',')\n",
    "\n",
    "def buses_str_to_list(bus_str_list: str):\n",
    "    buses_list = []\n",
    "    for bus_str in bus_str_list:\n",
    "        if bus_str == 'x':\n",
    "            continue\n",
    "        buses_list.append(int(bus_str))\n",
    "    return buses_list\n",
    "\n",
    "buses_list = buses_str_to_list(bus_str_list)\n",
    "\n",
    "# Algo:\n",
    "# 1. Do ((eta // bus_num) + 1 )* bus_num - this will be the first bus to get\n",
    "# 2. minus off eta\n",
    "# 3. find index of smallest element\n",
    "\n",
    "def find_wait_time_for_bus(bus: int):\n",
    "    return (((eta // bus) + 1 )* bus) - eta\n",
    "\n",
    "wait_times = map(find_wait_time_for_bus, buses_list)\n",
    "\n",
    "min_wait_time, index = min((min_wait_time, index) for (index, min_wait_time) in enumerate(wait_times))\n",
    "\n",
    "best_bus = buses_list[index]\n",
    "print(f'Min wait time: {min_wait_time}')\n",
    "print(f'Best bus: {best_bus}')\n",
    "print(f'Product: {min_wait_time * best_bus}')\n"
   ]
  },
  {
   "cell_type": "code",
   "execution_count": 17,
   "metadata": {},
   "outputs": [
    {
     "name": "stdout",
     "output_type": "stream",
     "text": [
      "Rem: 0. Mod: 23.\n",
      "Rem: 28. Mod: 41.\n",
      "Rem: 360. Mod: 383.\n",
      "Rem: 3. Mod: 13.\n",
      "Rem: 14. Mod: 17.\n",
      "Rem: 15. Mod: 19.\n",
      "Rem: 6. Mod: 29.\n",
      "Rem: 449. Mod: 503.\n",
      "Rem: 20. Mod: 37.\n",
      "783685719679632\n"
     ]
    }
   ],
   "source": [
    "### Part 2 ##\n",
    "\n",
    "# Sneaky bit of chinese remainder theorem\n",
    "# Assuming all bus_names are primes, and we call them n_1, n_2 ... n_k, then we must find t s.t:\n",
    "# t ~ 0 mod n_1\n",
    "# t + 1 ~ 0 mod n_2, so t ~ - 1 ~ n_2 - 1 mod n_2\n",
    "# ...\n",
    "# so the pattern is: t ~ n_i - i mod n_i\n",
    "\n",
    "# STEP 1: Collect up the list of 'Chinese Remainders'\n",
    "\n",
    "def get_input_lines():\n",
    "    with open('day13_input.txt') as f:\n",
    "        return [x for x in f.read().splitlines()]\n",
    "\n",
    "input_lines = get_input_lines()\n",
    "bus_str_list = input_lines[1].split(',')\n",
    "\n",
    "class ChineseRemainder():\n",
    "    def __init__(self, remainder: int, modulus: int):\n",
    "        self.rem = remainder\n",
    "        self.mod = modulus\n",
    "\n",
    "chinese_remainder_list = []\n",
    "for index, bus_str in enumerate(bus_str_list):\n",
    "    if (bus_str != 'x'):\n",
    "        mod = int(bus_str)\n",
    "        chinese_remainder_list.append(ChineseRemainder(((mod - index) % mod), mod))\n",
    "\n",
    "for c_r in chinese_remainder_list:\n",
    "    print(f'Rem: {c_r.rem}. Mod: {c_r.mod}.')\n",
    "\n",
    "\n",
    "# STEP 2: Set up function to find Bézout coefficients using Extended Euclidean Algo\n",
    "\n",
    "def bezout_coeffs(a: int, b: int):\n",
    "    # returns (s, t) such that a*s + b*t = gcd(a,b)\n",
    "    #   (always = 1 in this task, but can work in general too)\n",
    "\n",
    "    old_r, r = a, b\n",
    "    old_s, s = 1, 0\n",
    "    old_t, t = 0, 1\n",
    "\n",
    "    while r != 0:\n",
    "        quotient = old_r // r\n",
    "        old_r, r = r, (old_r - (quotient * r))\n",
    "        old_s, s = s, (old_s - (quotient * s))\n",
    "        old_t, t = t, (old_t - (quotient * t))\n",
    "    \n",
    "    return old_s, old_t\n",
    "\n",
    "# STEP 3: Do pair-wise solving of CRT (e.g. solve 1&2, then solve (1&2)&3 etc)\n",
    "\n",
    "c_r_1 = chinese_remainder_list[0]\n",
    "\n",
    "for c_r_2 in chinese_remainder_list[1:]:\n",
    "    # 1. Find Bézout coeffs of the mods\n",
    "    m_1, m_2 = bezout_coeffs(c_r_1.mod, c_r_2.mod)\n",
    "    \n",
    "    # 2. Plug into special formula to find out solution (see CRT on Wiki)\n",
    "    solution = (c_r_1.rem*c_r_2.mod*m_2 + c_r_2.rem*c_r_1.mod*m_1) % (c_r_1.mod*c_r_2.mod)\n",
    "    c_r_1 = ChineseRemainder(solution, c_r_1.mod*c_r_2.mod)\n",
    "\n",
    "print(c_r_1.rem)\n"
   ]
  }
 ],
 "metadata": {
  "interpreter": {
   "hash": "6d10d5168071a09c12f3da481d517eb2216ee909e891c9b02ddf481367d6a23e"
  },
  "kernelspec": {
   "display_name": "Python 3.9.7 64-bit",
   "name": "python3"
  },
  "language_info": {
   "codemirror_mode": {
    "name": "ipython",
    "version": 3
   },
   "file_extension": ".py",
   "mimetype": "text/x-python",
   "name": "python",
   "nbconvert_exporter": "python",
   "pygments_lexer": "ipython3",
   "version": "3.9.7"
  },
  "orig_nbformat": 4
 },
 "nbformat": 4,
 "nbformat_minor": 2
}
