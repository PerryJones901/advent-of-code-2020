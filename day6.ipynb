{
 "cells": [
  {
   "cell_type": "code",
   "execution_count": 2,
   "metadata": {},
   "outputs": [
    {
     "name": "stdout",
     "output_type": "stream",
     "text": [
      "6612\n"
     ]
    }
   ],
   "source": [
    "### Part 1 ###\n",
    "\n",
    "def get_input_lines_without_spaces():\n",
    "    with open('day6_input.txt') as f:\n",
    "        return [x.replace('\\n', '') for x in str.split(f.read(), '\\n\\n')]\n",
    "\n",
    "count = 0\n",
    "\n",
    "for answers_in_group in get_input_lines_without_spaces():\n",
    "    answer_set = set()\n",
    "    for char in answers_in_group:\n",
    "        answer_set.add(char)\n",
    "    count += len(answer_set)\n",
    "\n",
    "print(count)"
   ]
  },
  {
   "cell_type": "code",
   "execution_count": 6,
   "metadata": {},
   "outputs": [
    {
     "name": "stdout",
     "output_type": "stream",
     "text": [
      "3268\n"
     ]
    }
   ],
   "source": [
    "### Part 2 ###\n",
    "\n",
    "def get_input_lines():\n",
    "    with open('day6_input.txt') as f:\n",
    "        return [x.replace('\\n', ' ') for x in str.split(f.read(), '\\n\\n')]\n",
    "\n",
    "count = 0\n",
    "\n",
    "for answers_in_group_str in get_input_lines():\n",
    "    answers_in_group = answers_in_group_str.split(' ')\n",
    "    answer_set = answers_in_group[0]\n",
    "    for answers_of_person in answers_in_group:\n",
    "        for letter_fine_so_far in answer_set:\n",
    "            if (letter_fine_so_far not in answers_of_person):\n",
    "                answer_set = answer_set.replace(letter_fine_so_far, '')\n",
    "    \n",
    "    count += len(answer_set)\n",
    "\n",
    "print(count)"
   ]
  },
  {
   "cell_type": "code",
   "execution_count": null,
   "metadata": {},
   "outputs": [
    {
     "ename": "Error",
     "evalue": "Session cannot generate requests",
     "output_type": "error",
     "traceback": [
      "Error: Session cannot generate requests",
      "at w.executeCodeCell (c:\\Users\\Perry\\.vscode\\extensions\\ms-toolsai.jupyter-2021.9.1101343141\\out\\client\\extension.js:52:301180)",
      "at w.execute (c:\\Users\\Perry\\.vscode\\extensions\\ms-toolsai.jupyter-2021.9.1101343141\\out\\client\\extension.js:52:300551)",
      "at w.start (c:\\Users\\Perry\\.vscode\\extensions\\ms-toolsai.jupyter-2021.9.1101343141\\out\\client\\extension.js:52:296215)",
      "at runMicrotasks (<anonymous>)",
      "at processTicksAndRejections (internal/process/task_queues.js:93:5)",
      "at async t.CellExecutionQueue.executeQueuedCells (c:\\Users\\Perry\\.vscode\\extensions\\ms-toolsai.jupyter-2021.9.1101343141\\out\\client\\extension.js:52:310950)",
      "at async t.CellExecutionQueue.start (c:\\Users\\Perry\\.vscode\\extensions\\ms-toolsai.jupyter-2021.9.1101343141\\out\\client\\extension.js:52:310490)"
     ]
    }
   ],
   "source": []
  }
 ],
 "metadata": {
  "interpreter": {
   "hash": "6d10d5168071a09c12f3da481d517eb2216ee909e891c9b02ddf481367d6a23e"
  },
  "kernelspec": {
   "display_name": "Python 3.9.7 64-bit",
   "name": "python3"
  },
  "language_info": {
   "codemirror_mode": {
    "name": "ipython",
    "version": 3
   },
   "file_extension": ".py",
   "mimetype": "text/x-python",
   "name": "python",
   "nbconvert_exporter": "python",
   "pygments_lexer": "ipython3",
   "version": "3.9.7"
  },
  "orig_nbformat": 4
 },
 "nbformat": 4,
 "nbformat_minor": 2
}
